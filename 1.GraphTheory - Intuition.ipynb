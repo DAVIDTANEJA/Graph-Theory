{
 "cells": [
  {
   "cell_type": "code",
   "execution_count": null,
   "metadata": {},
   "outputs": [],
   "source": [
    "Graphs :\n",
    "are mathematical structures used to study pairwise relationships between objects and entities.\n",
    "Also a chart represents the graph of a function.   \n",
    "         \n",
    "NetworkX :\n",
    "is a Python package for the creation, manipulation, and study of the structure, dynamics, and functions of complex networks.\n",
    "\n",
    "Consider that this graph represents the places in a city that people generally visit, and the path that was followed by a \n",
    "visitor of that city. Let us consider V as the places and E as the path to travel from one place to another."
   ]
  },
  {
   "cell_type": "markdown",
   "metadata": {},
   "source": [
    "<img src='graph1.png'>"
   ]
  },
  {
   "cell_type": "code",
   "execution_count": null,
   "metadata": {},
   "outputs": [],
   "source": [
    "V = {v1, v2, v3, v4, v5}     # nodes (or vertices)\n",
    "\n",
    "E = {(v1,v2), (v2,v5), (v5, v5), (v4,v5), (v4,v4)}     # edges (or links)"
   ]
  },
  {
   "cell_type": "code",
   "execution_count": null,
   "metadata": {},
   "outputs": [],
   "source": [
    "Graph : \n",
    "is a pair of sets. \n",
    "G = (V,E).  'V' is the set of vertices. 'E' is a set of edges. \n",
    "E is made up of pairs of elements from V (unordered pair).\n",
    "\n",
    "DiGraph : \n",
    "is also a pair of sets. \n",
    "D = (V,A).  'V' is the set of vertices. 'A' is the set of arcs. \n",
    "A is made up of pairs of elements from V (ordered pair)."
   ]
  },
  {
   "cell_type": "markdown",
   "metadata": {},
   "source": [
    "<img src='graph2.png'>"
   ]
  },
  {
   "cell_type": "markdown",
   "metadata": {},
   "source": [
    "### Use cases:"
   ]
  },
  {
   "cell_type": "code",
   "execution_count": null,
   "metadata": {},
   "outputs": [],
   "source": [
    "1.Marketing Analytics – \n",
    "Graphs can be used to figure out the most influential people in a Social Network.\n",
    "Advertisers and Marketers can estimate the biggest bang for the marketing buck by routing\n",
    "their message through the most influential people in a Social Network.\n",
    "\n",
    "2.Banking Transactions – \n",
    "Graphs can be used to find unusual patterns helping in mitigating Fraudulent transactions. \n",
    "There have been examples where Terrorist activity has been detected by analyzing the flow of money\n",
    "across interconnected Banking networks.\n",
    "\n",
    "3.Supply Chain –\n",
    "Graphs help in identifying optimum routes for your delivery trucks and in identifying locations\n",
    "for warehouses and delivery centres.\n",
    "\n",
    "4.Pharma –\n",
    "Pharma companies can optimize the routes of the salesman using Graph theory. \n",
    "This helps in cutting costs and reducing the travel time for salesman.\n",
    "    \n",
    "5.Telecom –\n",
    "Telecom companies typically use Graphs (Voronoi diagrams) to understand the quantity and location \n",
    "of Cell towers to ensure maximum coverage."
   ]
  },
  {
   "cell_type": "markdown",
   "metadata": {},
   "source": [
    "### Why Graphs?"
   ]
  },
  {
   "cell_type": "markdown",
   "metadata": {},
   "source": [
    "1.Suppose you booked an Uber cab.  So, how does Uber allocate a ride to you? \n",
    "\n",
    "Consider there are 6 possible rides that you can be matched with. \n",
    "\n",
    "We can make use of graphs to visualize how the process of allotting a ride might be:\n",
    "Representing this in graph form makes it easier to visualize and finally fulfill our aim, \n",
    "i.e., to match the closest ride to the user. The numbers in the above graph represent the \n",
    "distance (in kilometers) between the rider and his/her corresponding ride. \n",
    "We (Uber) can clearly visualize that Ride 3 is the closest option.\n",
    "\n",
    "Note: For simplicity, here taken only the distance metric, Whearas in a real life scenario,\n",
    "there are multiple metrics (rating of the rider and driver, traffic between different routes, \n",
    "time for which the rider is idle, etc.)\n",
    "        \n",
    "        \n",
    "2.Similarly, online food delivery like Zomato can select a rider who will pick up orders from the \n",
    "corresponding restaurant and deliver it to us. This is one of the many use cases of graphs through \n",
    "which it can solve a lot of challenges."
   ]
  },
  {
   "cell_type": "markdown",
   "metadata": {},
   "source": [
    "<img src='graph3.png'>"
   ]
  },
  {
   "cell_type": "markdown",
   "metadata": {},
   "source": [
    "## Origin of Graph Theory : Seven Bridges of Königsberg "
   ]
  },
  {
   "cell_type": "code",
   "execution_count": null,
   "metadata": {},
   "outputs": [],
   "source": [
    "It all started with the Seven Bridges of Königsberg. \n",
    "The challenge with Königsberg’s bridges, was to be able to walk through the city by crossing all\n",
    "the seven bridges only once.\n",
    "Keep two things in mind : \n",
    "-You cannot uncross any bridge\n",
    "-Each bridge must not be crossed more than once"
   ]
  },
  {
   "cell_type": "markdown",
   "metadata": {},
   "source": [
    "<img src='graph4.png'>"
   ]
  },
  {
   "cell_type": "code",
   "execution_count": null,
   "metadata": {},
   "outputs": [],
   "source": [
    "Leonhard Euler delved deep into this puzzle to come up with the reason \n",
    "why this is such an impossible task. \n",
    "Let’s analyze how he did this:\n",
    "There are four distinct places in the above image: two islands (B and D), \n",
    "and two parts of the mainland (A and C) and a total of seven bridges. \n",
    "Let's first look at each land separately and try to find pattern.\n",
    "We can generalize that if there are even number of bridges, it’s possible to leave the land, \n",
    "while it’s impossible to do so with an odd number."
   ]
  },
  {
   "cell_type": "markdown",
   "metadata": {},
   "source": [
    "<img src=\"graph5.png\">"
   ]
  },
  {
   "cell_type": "code",
   "execution_count": null,
   "metadata": {},
   "outputs": [],
   "source": [
    "Let’s try to add one more bridge to the current problem and see whether it can crack open this problem:\n",
    "    \n",
    "Now we have 2 lands connected with an even number of bridges, and 2 lands connected with an odd number of bridges.\n",
    "Let’s draw a new route after the addition of the new bridge:"
   ]
  },
  {
   "cell_type": "markdown",
   "metadata": {},
   "source": [
    "<img src='graph6.png'>"
   ]
  },
  {
   "cell_type": "code",
   "execution_count": null,
   "metadata": {},
   "outputs": [],
   "source": [
    "The addition of a single bridge solved the problem! You might be wondering if the number of bridges\n",
    "played a significant part in solving this problem. Should it be even all the time. \n",
    "Well, that's not always the case. \n",
    "Euler explained that along with the number of bridges, the number of pieces of land \n",
    "with an odd number of connected bridges matters as well."
   ]
  },
  {
   "cell_type": "markdown",
   "metadata": {},
   "source": [
    "Euler converted this problem from land and bridges to graphs, where he represented the land as vertices and the bridges as edges:\n",
    "\n",
    "<img src='graph7.png'>"
   ]
  },
  {
   "cell_type": "markdown",
   "metadata": {},
   "source": [
    "## Fundamentals of graphs "
   ]
  },
  {
   "cell_type": "code",
   "execution_count": null,
   "metadata": {},
   "outputs": [],
   "source": [
    "1.Vertex (node):  It is a point where multiple lines meet.   ( like : A, B, C, D )\n",
    "\n",
    "\n",
    "2.Edge (links): It is a line that connects two vertices. ( like : A---B ) are connected that called edge."
   ]
  },
  {
   "cell_type": "code",
   "execution_count": null,
   "metadata": {},
   "outputs": [],
   "source": [
    "3.Graph : is a combination of V-vertices(nodes) and E-edges(links). G=(V,E)."
   ]
  },
  {
   "cell_type": "markdown",
   "metadata": {},
   "source": [
    "<img src='graph8.png'>"
   ]
  },
  {
   "cell_type": "code",
   "execution_count": null,
   "metadata": {},
   "outputs": [],
   "source": [
    "4.Degree of Vertex : The degree of a vertex is the number of edges connected to it.\n",
    "                    \n",
    "        Degree of vertex A, deg(A) = 3   , Degree of vertex B, deg(B) = 2."
   ]
  },
  {
   "cell_type": "markdown",
   "metadata": {},
   "source": [
    "<img src='graph9.png'>                    "
   ]
  },
  {
   "cell_type": "code",
   "execution_count": null,
   "metadata": {},
   "outputs": [],
   "source": [
    "5.Parallel Edge : If two vertices are connected by more than one edge, then these edges are called parallel edges."
   ]
  },
  {
   "cell_type": "markdown",
   "metadata": {},
   "source": [
    "<img src='graph10.png'>"
   ]
  },
  {
   "cell_type": "code",
   "execution_count": null,
   "metadata": {},
   "outputs": [],
   "source": [
    "6.Multi Graph : These are the graphs which have parallel edges."
   ]
  },
  {
   "cell_type": "markdown",
   "metadata": {},
   "source": [
    "<img src='graph11.png'>"
   ]
  },
  {
   "cell_type": "markdown",
   "metadata": {},
   "source": [
    "## Basic properties and terminologies "
   ]
  },
  {
   "cell_type": "code",
   "execution_count": null,
   "metadata": {},
   "outputs": [],
   "source": [
    "We will be using the below given graph (G) and understand :\n",
    "\n",
    "a.How far is a vertex from the other vertices of a graph?\n",
    "b.What is the maximum distance between a vertex and all the other vertices?\n",
    "c.Is there any vertex which is closest to all the other vertices? If so, what is that shortest distance?\n",
    "d.What is the central point of the graph?"
   ]
  },
  {
   "cell_type": "markdown",
   "metadata": {},
   "source": [
    "<img src='graph12.png'>"
   ]
  },
  {
   "cell_type": "code",
   "execution_count": null,
   "metadata": {},
   "outputs": [],
   "source": [
    "1.Distance between two Vertices : \n",
    "It is the number of edges in the shortest path between two vertices. \n",
    "Let's try to calculate the distance between vertices A and D. \n",
    "Possible paths between A and D are:\n",
    "    AB -> BC -> CD\n",
    "    AD\n",
    "    AB -> BD\n",
    "Out of these three paths, AD is the shortest having only one edge. \n",
    "Hence, the distance between A and D is 1.\n",
    "Similarly, we can calculate the distance between each pair of vertices. \n",
    "    \n",
    "So, this answered our first question of determining the distance between any pair of vertices."
   ]
  },
  {
   "cell_type": "code",
   "execution_count": null,
   "metadata": {},
   "outputs": [],
   "source": [
    "2.Eccentricity of a Vertex :\n",
    "It is the maximum of distances between a vertex to all other vertices. \n",
    "Let's calculate the eccentricity for vertex A :\n",
    "    Distance between A and B –> 1\n",
    "    Distance between A and C –> 2     # A - B - C\n",
    "    Distance between A and D –> 1\n",
    "    Maximum of all these distances is the eccentricity of a vertex.\n",
    "    Eccentricity of A, e(A) = 2\n",
    "    \n",
    "This answers our 2nd question where we aimed to calculate the maximum of distances between a vertex to all the other vertices."
   ]
  },
  {
   "cell_type": "code",
   "execution_count": null,
   "metadata": {},
   "outputs": [],
   "source": [
    "3.Radius of a connected Graph :\n",
    "Minimum eccentricity of all the vertices of a graph is referred as the Radius of that graph. \n",
    "first calculate the eccentricity for each vertex.\n",
    "    e(A) = 2\n",
    "    e(B) = 1\n",
    "    e(C) = 2\n",
    "    e(D) = 1\n",
    "Minimum value of the eccentricity for all the vertices is the radius of that graph. \n",
    "In this case minimum eccentricity is 1 and hence the radius of the graph is :  r(G) = 1\n",
    "    \n",
    "It tells us the distance of a vertex which is the closest to all other vertices."
   ]
  },
  {
   "cell_type": "code",
   "execution_count": null,
   "metadata": {},
   "outputs": [],
   "source": [
    "4.Diameter of a connected Graph :\n",
    "Diameter of a graph is the maximum value of the eccentricity for all the vertices. \n",
    "In this case the Diameter of the graph is  :   d(G) = 2"
   ]
  },
  {
   "cell_type": "code",
   "execution_count": null,
   "metadata": {},
   "outputs": [],
   "source": [
    "5.Central point of a graph :\n",
    "Vertex for which the eccentricity is equal to the radius of the graph is known as central point of the graph.\n",
    "A graph can have more than one central point as well. \n",
    "In this case the Radius of the graph is 1 and the vertices with eccentricity equals to 1 are B and D. \n",
    "Hence 'B' and 'D' are the central points of graph G.\n",
    "    \n",
    "This answered last question of determining the central point of a graph."
   ]
  },
  {
   "cell_type": "code",
   "execution_count": null,
   "metadata": {},
   "outputs": [],
   "source": [
    "1.The vertices u and v are called the end vertices of the edge (u,v)\n",
    "2.If two edges have the same end vertices they are Parallel\n",
    "3.An edge of the form (v,v) is a loop\n",
    "4.A Graph is simple if it has no parallel edges and loops\n",
    "5.A Graph is said to be Empty if it has no edges. Meaning E is empty\n",
    "6.A Graph is a Null Graph if it has no vertices. Meaning V and E is empty\n",
    "7.A Graph with only 1 Vertex is a Trivial graph\n",
    "8.Edges are Adjacent if they have a common vertex. Vertices are Adjacent if they have a common edge\n",
    "9.The degree of the vertex v, written as d(v), is the number of edges with v as an end vertex. \n",
    "  By convention, count a loop twice and parallel edges contribute separately.\n",
    "    \n",
    "10.Isolated Vertices are vertices with degree 1. d(1) vertices are isolated.\n",
    "11.A Graph is Complete if its edge set contains every possible edge between ALL of the vertices.\n",
    "12.A Walk in a Graph G = (V,E) is a finite, alternating sequence of the form  ViEiViEi  consisting of vertices \n",
    "  and edges of the graph G.\n",
    "\n",
    "13.A Walk is Open if the initial and final vertices are different. \n",
    "   A Walk is Closed if the initial & final vertices are the same\n",
    "\n",
    "14.A Walk is a Trail if ANY edge is traversed atmost once.\n",
    "15.A Trail is a Path if ANY vertex is traversed atmost once (Except for a closed walk)\n",
    "16.A Closed Path is a Circuit – Analogous to electrical circuits."
   ]
  },
  {
   "cell_type": "markdown",
   "metadata": {},
   "source": [
    "## Types of Graphs"
   ]
  },
  {
   "cell_type": "code",
   "execution_count": null,
   "metadata": {},
   "outputs": [],
   "source": [
    "1.Null Graph : These are the graphs which do not contain any edges. There is no connection between the vertices (nodes)."
   ]
  },
  {
   "cell_type": "code",
   "execution_count": null,
   "metadata": {},
   "outputs": [],
   "source": [
    "2.Non-Directed Graph : These are the graphs which have edges, but these edges do not have any particular direction."
   ]
  },
  {
   "cell_type": "markdown",
   "metadata": {},
   "source": [
    "<img src='graph13.png'>"
   ]
  },
  {
   "cell_type": "code",
   "execution_count": null,
   "metadata": {},
   "outputs": [],
   "source": [
    "3.Directed Graph : When the edges of a graph have a specific direction, they are called directed graphs."
   ]
  },
  {
   "cell_type": "markdown",
   "metadata": {},
   "source": [
    "<img src='graph14.png'>"
   ]
  },
  {
   "cell_type": "markdown",
   "metadata": {},
   "source": [
    "##### Consider the example of Facebook and Twitter connections. \n",
    "\n",
    "##### When you add someone to your friend list on Facebook, you will also be added to their friend list. This is a two-way relationship and that connection graph will be a 'non-directed' one. \n",
    "\n",
    "##### Whereas if you follow a person on Twitter, that person might not follow you back. This is a 'directed' graph."
   ]
  },
  {
   "cell_type": "code",
   "execution_count": null,
   "metadata": {},
   "outputs": [],
   "source": [
    "4.Connected Graph : \n",
    "When there is no unreachable vertex, i.e., there exists a path between every pair of vertices, \n",
    "such graphs are called connected graphs."
   ]
  },
  {
   "cell_type": "markdown",
   "metadata": {},
   "source": [
    "<img src='graph15.png'>"
   ]
  },
  {
   "cell_type": "code",
   "execution_count": null,
   "metadata": {},
   "outputs": [],
   "source": [
    "5.Disconnected Graph : \n",
    "These are those graphs which have unreachable vertex(s), i.e., a path does not exist between every pair of vertices."
   ]
  },
  {
   "cell_type": "markdown",
   "metadata": {},
   "source": [
    "<img src='graph16.png'>"
   ]
  },
  {
   "cell_type": "code",
   "execution_count": null,
   "metadata": {},
   "outputs": [],
   "source": [
    "6.Regular Graph : \n",
    "When all the vertices in a graph have the same degree, these graphs are called k-Regular graphs \n",
    "(where k is the degree of any vertex).\n",
    "                 \n",
    "Graph-1, the degree of each vertex is 2, hence Graph – 1 is a regular graph. \n",
    "Graph-2 is not a regular graph as the degree of each vertex is not the same."
   ]
  },
  {
   "cell_type": "markdown",
   "metadata": {},
   "source": [
    "<img src='graph17.png'>                 "
   ]
  },
  {
   "cell_type": "markdown",
   "metadata": {},
   "source": [
    "## ------------------------------------"
   ]
  },
  {
   "cell_type": "markdown",
   "metadata": {},
   "source": [
    "# Trees"
   ]
  },
  {
   "cell_type": "code",
   "execution_count": null,
   "metadata": {},
   "outputs": [],
   "source": [
    "Trees are graphs which do not contain even a single cycle,\n",
    "The first graph has no cycle (its a tree), while the second graph has a cycle (A-B-E-C-A, hence it’s not a tree).\n",
    "\n",
    "The elements of a tree are called nodes. (A, B, C, D, and E) are the nodes in the above tree.\n",
    "The first node (or the topmost node) of a tree is known as the root node (or parent node),\n",
    "while the last node (node C, D and E in the above example) is known as the leaf node.\n",
    "All the remaining nodes are known as child nodes (node B)."
   ]
  },
  {
   "cell_type": "markdown",
   "metadata": {},
   "source": [
    "<img src='graph18.png'>"
   ]
  },
  {
   "cell_type": "markdown",
   "metadata": {},
   "source": [
    "## Graph Traversal"
   ]
  },
  {
   "cell_type": "code",
   "execution_count": null,
   "metadata": {},
   "outputs": [],
   "source": [
    "Graph Traversal : \n",
    "refers to visiting every vertex and edge of a graph exactly once in a well-defined order. \n",
    "As the aim of traversing is to visit each vertex only once, we keep a track of vertices covered \n",
    "so that we do not cover same vertex twice.\n",
    "There are various methods for graph traversal :"
   ]
  },
  {
   "cell_type": "markdown",
   "metadata": {},
   "source": [
    "### 1. Breadth First Search "
   ]
  },
  {
   "cell_type": "code",
   "execution_count": null,
   "metadata": {},
   "outputs": [],
   "source": [
    "We start from the source node (root node) and traverse the graph, layer wise.                                       \n",
    "Steps:                                                                                              \n",
    "-First move horizontally and visit all the nodes of current layer.                                      \n",
    "-Move to the next layer and repeat the steps done above.                                 \n",
    "\n",
    "So in Breadth First Search, we start from the Source Node (A in our case) and move down to the first layer, \n",
    "i.e. Layer 1. We cover all the nodes in that layer by moving horizontally (B -> C). \n",
    "Then we go to the next layer, i.e. Layer 2 and repeat the same step (we move from D -> E -> F). \n",
    "We continue this step until all the layers and vertices are covered.\n",
    "\n",
    "Advantage of this approach is that we always find the shortest path to the goal. \n",
    "It is appropriate for small graphs and trees.  \n",
    "But for more complex and larger graphs, its performance is very slow and it also takes a lot of memory."
   ]
  },
  {
   "cell_type": "markdown",
   "metadata": {},
   "source": [
    "<img src='graph19.png'>"
   ]
  },
  {
   "cell_type": "markdown",
   "metadata": {},
   "source": [
    "### 2. Depth First Search"
   ]
  },
  {
   "cell_type": "code",
   "execution_count": null,
   "metadata": {},
   "outputs": [],
   "source": [
    "Steps :                                                                                                       \n",
    "-We first pick the source node and store all its adjacent nodes.                                             \n",
    "-We then pick up a node from stored nodes and store all its adjacent nodes.                                          \n",
    "-This process is repeated until no node is available.                                                  \n",
    "\n",
    "The sequence for Depth First Search for the above example will be:    A -> B -> D -> E -> C -> F \n",
    "\n",
    "Once a path has been fully explored it can be removed from memory, so DFS only needs to store the root node, \n",
    "all the children of the root node and where it currently is. Hence, it overcomes the memory problem of BFS."
   ]
  },
  {
   "cell_type": "markdown",
   "metadata": {},
   "source": [
    "<img src='graph20.png'>"
   ]
  },
  {
   "cell_type": "markdown",
   "metadata": {},
   "source": [
    "### 3. Binary Search Tree "
   ]
  },
  {
   "cell_type": "code",
   "execution_count": null,
   "metadata": {},
   "outputs": [],
   "source": [
    "In this approach all the nodes of a tree are arranged in a sorted order. \n",
    "All the nodes are arranged based on a condition.\n",
    "Suppose we want to access the node with value 45. \n",
    "If we would have followed BFS or DFS, we would have required a lot of computational time to reach to it. \n",
    "\n",
    "Steps :                                                                                                          \n",
    "-We start with the root node, i.e. 50.                                                                              \n",
    "-Now 45 is less than 50 (45 < 50), so we move to the left of root node.                                                    \n",
    "-We then compare the values. As it turns out 45 is greater than 40 (45 > 40), so we move to the right of that node.      \n",
    "-Here we are at the node with value 45.                                                               "
   ]
  },
  {
   "cell_type": "markdown",
   "metadata": {},
   "source": [
    "<img src='graph21.png'>"
   ]
  }
 ],
 "metadata": {
  "kernelspec": {
   "display_name": "Python 3",
   "language": "python",
   "name": "python3"
  },
  "language_info": {
   "codemirror_mode": {
    "name": "ipython",
    "version": 3
   },
   "file_extension": ".py",
   "mimetype": "text/x-python",
   "name": "python",
   "nbconvert_exporter": "python",
   "pygments_lexer": "ipython3",
   "version": "3.6.8"
  }
 },
 "nbformat": 4,
 "nbformat_minor": 2
}
